{
 "cells": [
  {
   "cell_type": "markdown",
   "id": "9f6c87f1",
   "metadata": {},
   "source": [
    "# Variational autoencoder\n",
    "\n",
    "This example demostrates the implementation of a Variational Autoencoder in JAX, from scratch.\n",
    "\n",
    "Specifically, it showcases:\n",
    "\n",
    "  - Some possible architehture for the encoder and decoder. Note it could be improved by the addition of convolutional layers.\n",
    "  - The optimization of the ELBO loss function using backpropagation, including across the random input.\n",
    "  - The use of the trained models as image generators.\n",
    "  \n",
    "The exercise is repeated for a conditional variational autoencoder, where both encoder and decoder take a(one-hot encoded) label as input. The pre trained encoder in the previous step is used to try to improve the learning process. This does not seem to work so well.\n",
    "\n",
    "The optimization runs for quite a while, but it can be interrupted at any time, with the current parameters being availaible for later use and inspection.\n",
    "\n",
    "Optional extensions:\n",
    "\n",
    "  - Try using a different dataset, such as CIFAR10.\n",
    "  - Try playing around with the architechture and parameter settings, such as the latent dimenstion.\n",
    "  - Study the distances in the latent space for images with the same and different labels.\n",
    "  - Investigate why does the pre trained encoder work much less well than expected (i.e. it starts with a higher loss despite the extra information contained in the label and takes more to converge).\n",
    "  - Try adding de-noising capablitied to the model.\n",
    "  - Try using a different optimizer library, such as optax.\n",
    "  - At the moment we are not using the test data. How could it be used to assess the model?\n",
    "  \n",
    "\n"
   ]
  },
  {
   "cell_type": "code",
   "execution_count": 26,
   "id": "45a01d41",
   "metadata": {},
   "outputs": [],
   "source": [
    "import itertools\n",
    "import array\n",
    "import gzip\n",
    "import os\n",
    "from os import path\n",
    "import struct\n",
    "import urllib.request\n",
    "import tempfile\n",
    "\n",
    "import numpy as np\n",
    "import matplotlib.pyplot as plt\n",
    "\n",
    "\n",
    "\n",
    "import jax\n",
    "import jax.numpy as jnp\n",
    "from jax import grad, jit, random\n",
    "\n",
    "from jax.nn.initializers import he_normal\n",
    "from jax.nn import sigmoid, softmax\n",
    "from jax.example_libraries import optimizers\n",
    "from jax.example_libraries import stax\n",
    "from jax.example_libraries.stax import Dense, Relu, Sigmoid, Softplus\n",
    "\n"
   ]
  },
  {
   "cell_type": "markdown",
   "id": "5a59f302",
   "metadata": {},
   "source": [
    "# Data downloading code"
   ]
  },
  {
   "cell_type": "code",
   "execution_count": 2,
   "id": "08b48b0b",
   "metadata": {},
   "outputs": [],
   "source": [
    "_DATA_PATH = tempfile.mkdtemp(prefix=\"mnist_data\")\n",
    "\n",
    "\n",
    "def _download(url, filename):\n",
    "    \"\"\"Download a url to a file in the JAX data temp directory.\"\"\"\n",
    "    if not path.exists(_DATA_PATH):\n",
    "        os.makedirs(_DATA_PATH)\n",
    "    out_file = path.join(_DATA_PATH, filename)\n",
    "    if not path.isfile(out_file):\n",
    "        urllib.request.urlretrieve(url, out_file)\n",
    "        print(f\"downloaded {url} to {_DATA_PATH}\")\n",
    "\n",
    "\n",
    "def _partial_flatten(x):\n",
    "    \"\"\"Flatten all but the first dimension of an ndarray.\"\"\"\n",
    "    return np.reshape(x, (x.shape[0], -1))\n",
    "\n",
    "\n",
    "def _one_hot(x, k, dtype=np.float32):\n",
    "    \"\"\"Create a one-hot encoding of x of size k.\"\"\"\n",
    "    return np.array(x[:, None] == np.arange(k), dtype)\n",
    "\n",
    "\n",
    "def mnist_raw():\n",
    "    \"\"\"Download and parse the raw MNIST dataset.\"\"\"\n",
    "    # CVDF mirror of http://yann.lecun.com/exdb/mnist/\n",
    "    base_url = \"https://storage.googleapis.com/cvdf-datasets/mnist/\"\n",
    "\n",
    "    def parse_labels(filename):\n",
    "        with gzip.open(filename, \"rb\") as fh:\n",
    "            _ = struct.unpack(\">II\", fh.read(8))\n",
    "            return np.array(array.array(\"B\", fh.read()), dtype=np.uint8)\n",
    "\n",
    "    def parse_images(filename):\n",
    "        with gzip.open(filename, \"rb\") as fh:\n",
    "            _, num_data, rows, cols = struct.unpack(\">IIII\", fh.read(16))\n",
    "            return np.array(array.array(\"B\", fh.read()), dtype=np.uint8).reshape(\n",
    "                num_data, rows, cols\n",
    "            )\n",
    "\n",
    "    for filename in [\n",
    "        \"train-images-idx3-ubyte.gz\",\n",
    "        \"train-labels-idx1-ubyte.gz\",\n",
    "        \"t10k-images-idx3-ubyte.gz\",\n",
    "        \"t10k-labels-idx1-ubyte.gz\",\n",
    "    ]:\n",
    "        _download(base_url + filename, filename)\n",
    "\n",
    "    train_images = parse_images(path.join(_DATA_PATH, \"train-images-idx3-ubyte.gz\"))\n",
    "    train_labels = parse_labels(path.join(_DATA_PATH, \"train-labels-idx1-ubyte.gz\"))\n",
    "    test_images = parse_images(path.join(_DATA_PATH, \"t10k-images-idx3-ubyte.gz\"))\n",
    "    test_labels = parse_labels(path.join(_DATA_PATH, \"t10k-labels-idx1-ubyte.gz\"))\n",
    "\n",
    "    return train_images, train_labels, test_images, test_labels\n",
    "\n",
    "\n",
    "def mnist():\n",
    "    \"\"\"Download, parse and process MNIST data to unit scale and one-hot labels.\"\"\"\n",
    "    train_images, train_labels, test_images, test_labels = mnist_raw()\n",
    "\n",
    "    train_images = _partial_flatten(train_images) / np.float32(255.0)\n",
    "    test_images = _partial_flatten(test_images) / np.float32(255.0)\n",
    "    train_labels = _one_hot(train_labels, 10)\n",
    "    test_labels = _one_hot(test_labels, 10)\n",
    "\n",
    "    return (\n",
    "        train_images,\n",
    "        train_labels,\n",
    "        test_images,\n",
    "        test_labels,\n",
    "\n",
    "    )\n"
   ]
  },
  {
   "cell_type": "markdown",
   "id": "d802f7fb",
   "metadata": {},
   "source": [
    "#### Download the data and set dimensions"
   ]
  },
  {
   "cell_type": "code",
   "execution_count": 3,
   "id": "85c493b7",
   "metadata": {},
   "outputs": [
    {
     "name": "stdout",
     "output_type": "stream",
     "text": [
      "downloaded https://storage.googleapis.com/cvdf-datasets/mnist/train-images-idx3-ubyte.gz to /tmp/mnist_datakk5mkycw\n",
      "downloaded https://storage.googleapis.com/cvdf-datasets/mnist/train-labels-idx1-ubyte.gz to /tmp/mnist_datakk5mkycw\n",
      "downloaded https://storage.googleapis.com/cvdf-datasets/mnist/t10k-images-idx3-ubyte.gz to /tmp/mnist_datakk5mkycw\n",
      "downloaded https://storage.googleapis.com/cvdf-datasets/mnist/t10k-labels-idx1-ubyte.gz to /tmp/mnist_datakk5mkycw\n"
     ]
    }
   ],
   "source": [
    "\n",
    "img_shape = (28, 28)\n",
    "\n",
    "flat_img_shape = np.prod(img_shape)\n",
    "\n",
    "n_cat = 10\n",
    "\n",
    "\n",
    "train_data, train_labels, test_data, test_labels = mnist()\n"
   ]
  },
  {
   "cell_type": "markdown",
   "id": "64511a3c",
   "metadata": {},
   "source": [
    "## Model definition"
   ]
  },
  {
   "cell_type": "code",
   "execution_count": 4,
   "id": "d6eb22bf",
   "metadata": {},
   "outputs": [],
   "source": [
    "latent_dim = 20\n",
    "\n",
    "# Define the VAE architecture\n",
    "def vae_model(latent_dim):\n",
    "    # Encoder\n",
    "    encoder_init, encoder_apply = stax.serial(\n",
    "        Dense(512, W_init=he_normal()), Relu,\n",
    "        Dense(256, W_init=he_normal()), Relu,\n",
    "        Dense(2 * latent_dim)  # Output will be mean and log-variance of the latent space\n",
    "    )\n",
    "\n",
    "    # Decoder\n",
    "    decoder_init, decoder_apply = stax.serial(\n",
    "        Dense(256, W_init=he_normal()), Relu,\n",
    "        Dense(512, W_init=he_normal()), Relu,\n",
    "        Dense(flat_img_shape), Sigmoid  # Output size is 28*28 (MNIST image size)\n",
    "    )\n",
    "\n",
    "    return encoder_init, encoder_apply, decoder_init, decoder_apply"
   ]
  },
  {
   "cell_type": "markdown",
   "id": "e798461b",
   "metadata": {},
   "source": [
    "#### Initialize the VAE model\n"
   ]
  },
  {
   "cell_type": "code",
   "execution_count": 5,
   "id": "4e240ce2",
   "metadata": {},
   "outputs": [],
   "source": [
    "encoder_init, encoder_apply, decoder_init, decoder_apply = vae_model(latent_dim)"
   ]
  },
  {
   "cell_type": "markdown",
   "id": "cb124bae",
   "metadata": {},
   "source": [
    "#### Initialize random state"
   ]
  },
  {
   "cell_type": "code",
   "execution_count": 6,
   "id": "1763c6da",
   "metadata": {},
   "outputs": [
    {
     "name": "stderr",
     "output_type": "stream",
     "text": [
      "No GPU/TPU found, falling back to CPU. (Set TF_CPP_MIN_LOG_LEVEL=0 and rerun for more info.)\n"
     ]
    }
   ],
   "source": [
    "rng = random.PRNGKey(0)"
   ]
  },
  {
   "cell_type": "markdown",
   "id": "5784648c",
   "metadata": {},
   "source": [
    "#### Initialize the parameters "
   ]
  },
  {
   "cell_type": "code",
   "execution_count": 7,
   "id": "3988c3c5",
   "metadata": {},
   "outputs": [],
   "source": [
    "_shape, encoder_params = encoder_init(rng, (-1, 784))\n",
    "_shape, decoder_params = decoder_init(rng, (-1, latent_dim))\n",
    "\n",
    "# Combine the encoder and decoder parameters\n",
    "vae_params = (encoder_params, decoder_params)\n"
   ]
  },
  {
   "cell_type": "markdown",
   "id": "d24a5733",
   "metadata": {},
   "source": [
    "## Loss definition"
   ]
  },
  {
   "cell_type": "code",
   "execution_count": 8,
   "id": "f9cb64e3",
   "metadata": {},
   "outputs": [],
   "source": [
    "def vae_loss(params, data, rng):\n",
    "    encoder_params, decoder_params = params\n",
    "\n",
    "    encoder_values = encoder_apply(encoder_params, data)\n",
    "    \n",
    "    # Split the encoded data into mean and log-variance\n",
    "    mean, log_var = encoder_values[:, :latent_dim], encoder_values[:, latent_dim:]\n",
    "    \n",
    "\n",
    "    # Reparameterization trick to sample from the latent space\n",
    "    epsilon = random.normal(rng, mean.shape)\n",
    "    z = mean + jnp.exp(0.5 * log_var) * epsilon\n",
    "\n",
    "    # Reconstruct the data\n",
    "    reconstruction = decoder_apply(decoder_params, z)\n",
    "    \n",
    "\n",
    "    reconstruction_loss = -jnp.sum(\n",
    "        data * jnp.log(reconstruction + 1e-8)\n",
    "        + (1 - data) * jnp.log(1 - reconstruction + 1e-8)\n",
    "    )\n",
    "    \n",
    "    # Compute KL divergence between the latent space distribution and the prior, N(0,1)\n",
    "    kl_divergence = -0.5 * jnp.sum(1 + log_var - mean**2 - jnp.exp(log_var))\n",
    "\n",
    "    # Total loss is the sum of reconstruction loss and KL divergence\n",
    "    total_loss = (reconstruction_loss + kl_divergence)/len(data)\n",
    "\n",
    "    return total_loss"
   ]
  },
  {
   "cell_type": "markdown",
   "id": "c588593e",
   "metadata": {},
   "source": [
    "## Optimization"
   ]
  },
  {
   "cell_type": "markdown",
   "id": "aea52118",
   "metadata": {},
   "source": [
    "#### Optimization settings"
   ]
  },
  {
   "cell_type": "code",
   "execution_count": 9,
   "id": "7ee670de",
   "metadata": {},
   "outputs": [],
   "source": [
    "num_epochs = 150\n",
    "batch_size = 64\n",
    "\n",
    "\n",
    "step_size = 0.0004\n",
    "momentum_mass = 0.9"
   ]
  },
  {
   "cell_type": "markdown",
   "id": "4b904b1a",
   "metadata": {},
   "source": [
    "#### Optimization initialization"
   ]
  },
  {
   "cell_type": "code",
   "execution_count": 10,
   "id": "a06b7fd5",
   "metadata": {},
   "outputs": [],
   "source": [
    "\n",
    "\n",
    "\n",
    "itercount = itertools.count()\n",
    "\n",
    "opt_init, opt_update, get_params = optimizers.momentum(step_size, mass=momentum_mass)\n",
    "opt_state = opt_init(vae_params)"
   ]
  },
  {
   "cell_type": "markdown",
   "id": "538fe327",
   "metadata": {},
   "source": [
    "#### Updating rule"
   ]
  },
  {
   "cell_type": "code",
   "execution_count": 11,
   "id": "35f67f76",
   "metadata": {},
   "outputs": [],
   "source": [
    "@jit\n",
    "def update(i, opt_state, data, rng):\n",
    "    params = get_params(opt_state)\n",
    "    return opt_update(i, grad(vae_loss)(params, data, rng), opt_state)"
   ]
  },
  {
   "cell_type": "markdown",
   "id": "6942b612",
   "metadata": {},
   "source": [
    "#### Data stream\n",
    "\n",
    "We take care of randomizing the order of the data in each iteration, so as to not bias the optimization towards the latest data."
   ]
  },
  {
   "cell_type": "code",
   "execution_count": 12,
   "id": "b2630397",
   "metadata": {},
   "outputs": [],
   "source": [
    "def data_stream(rng):\n",
    "    while True:\n",
    "        rng, subkey = random.split(rng)\n",
    "        perm = random.permutation(subkey, jnp.arange(num_train))\n",
    "        for i in range(num_batches):\n",
    "            batch_idx = perm[i * batch_size : (i + 1) * batch_size]\n",
    "            yield train_data[batch_idx]\n",
    "            \n",
    "rng, subkey = random.split(rng)           \n",
    "batches = data_stream(subkey)\n",
    "\n",
    "num_train = train_data.shape[0]\n",
    "num_complete_batches, leftover = divmod(num_train, batch_size)\n",
    "num_batches = num_complete_batches + bool(leftover)\n"
   ]
  },
  {
   "cell_type": "markdown",
   "id": "0c44b8f8",
   "metadata": {},
   "source": [
    "## Training loop"
   ]
  },
  {
   "cell_type": "code",
   "execution_count": 13,
   "id": "741678f5",
   "metadata": {
    "scrolled": true
   },
   "outputs": [
    {
     "name": "stdout",
     "output_type": "stream",
     "text": [
      "Epoch 1/150, Total Loss: 132.1481475830078\n",
      "Epoch 2/150, Total Loss: 120.81501007080078\n",
      "Epoch 3/150, Total Loss: 116.92743682861328\n",
      "Epoch 4/150, Total Loss: 114.57603454589844\n",
      "Epoch 5/150, Total Loss: 112.78033447265625\n",
      "Epoch 6/150, Total Loss: 111.80286407470703\n",
      "Epoch 7/150, Total Loss: 111.17925262451172\n",
      "Epoch 8/150, Total Loss: 109.7723617553711\n",
      "Epoch 9/150, Total Loss: 108.79523468017578\n",
      "Epoch 10/150, Total Loss: 108.63961029052734\n",
      "Epoch 11/150, Total Loss: 108.05463409423828\n",
      "Epoch 12/150, Total Loss: 107.48576354980469\n",
      "Epoch 13/150, Total Loss: 106.82023620605469\n",
      "Epoch 14/150, Total Loss: 106.33717346191406\n",
      "Epoch 15/150, Total Loss: 106.43558502197266\n",
      "Epoch 16/150, Total Loss: 105.80220794677734\n",
      "Epoch 17/150, Total Loss: 105.35298156738281\n",
      "Epoch 18/150, Total Loss: 105.31351470947266\n",
      "Epoch 19/150, Total Loss: 105.10684967041016\n",
      "Epoch 20/150, Total Loss: 104.85519409179688\n",
      "Epoch 21/150, Total Loss: 104.57330322265625\n",
      "Epoch 22/150, Total Loss: 104.26589965820312\n",
      "Epoch 23/150, Total Loss: 104.22467041015625\n",
      "Epoch 24/150, Total Loss: 104.09880065917969\n",
      "Epoch 25/150, Total Loss: 103.76143646240234\n",
      "Epoch 26/150, Total Loss: 103.66431427001953\n",
      "Epoch 27/150, Total Loss: 103.4852523803711\n",
      "Epoch 28/150, Total Loss: 103.41069030761719\n",
      "Epoch 29/150, Total Loss: 103.14653015136719\n",
      "Epoch 30/150, Total Loss: 102.9951171875\n",
      "Epoch 31/150, Total Loss: 102.78998565673828\n",
      "Epoch 32/150, Total Loss: 103.21070098876953\n",
      "Epoch 33/150, Total Loss: 102.65038299560547\n",
      "Epoch 34/150, Total Loss: 102.4146728515625\n",
      "Epoch 35/150, Total Loss: 102.46531677246094\n",
      "Epoch 36/150, Total Loss: 102.204833984375\n",
      "Epoch 37/150, Total Loss: 102.17717742919922\n",
      "Epoch 38/150, Total Loss: 101.96973419189453\n",
      "Epoch 39/150, Total Loss: 101.97017669677734\n",
      "Epoch 40/150, Total Loss: 102.12897491455078\n",
      "Epoch 41/150, Total Loss: 102.3565673828125\n",
      "Epoch 42/150, Total Loss: 101.63774871826172\n",
      "Epoch 43/150, Total Loss: 101.76776123046875\n",
      "Epoch 44/150, Total Loss: 101.7398681640625\n",
      "Epoch 45/150, Total Loss: 101.58194732666016\n",
      "Epoch 46/150, Total Loss: 101.51412963867188\n",
      "Epoch 47/150, Total Loss: 101.27290344238281\n",
      "Epoch 48/150, Total Loss: 100.91259765625\n",
      "Epoch 49/150, Total Loss: 101.23909759521484\n",
      "Epoch 50/150, Total Loss: 101.03434753417969\n",
      "Epoch 51/150, Total Loss: 101.22332763671875\n",
      "Epoch 52/150, Total Loss: 101.13204956054688\n",
      "Epoch 53/150, Total Loss: 101.16676330566406\n",
      "Epoch 54/150, Total Loss: 100.84809875488281\n",
      "Epoch 55/150, Total Loss: 100.94322204589844\n",
      "Epoch 56/150, Total Loss: 100.88282012939453\n",
      "Epoch 57/150, Total Loss: 100.71116638183594\n",
      "Epoch 58/150, Total Loss: 100.45537567138672\n",
      "Epoch 59/150, Total Loss: 100.43948364257812\n",
      "Epoch 60/150, Total Loss: 100.59556579589844\n",
      "Epoch 61/150, Total Loss: 100.19168853759766\n",
      "Epoch 62/150, Total Loss: 100.96375274658203\n",
      "Epoch 63/150, Total Loss: 100.129150390625\n",
      "Epoch 64/150, Total Loss: 100.05265045166016\n",
      "Epoch 65/150, Total Loss: 100.37512969970703\n",
      "Epoch 66/150, Total Loss: 100.30088806152344\n",
      "Epoch 67/150, Total Loss: 99.92012786865234\n",
      "Epoch 68/150, Total Loss: 99.98193359375\n",
      "Epoch 69/150, Total Loss: 100.18133544921875\n",
      "Epoch 70/150, Total Loss: 100.0420913696289\n",
      "Epoch 71/150, Total Loss: 99.91850280761719\n",
      "Epoch 72/150, Total Loss: 99.99126434326172\n",
      "Epoch 73/150, Total Loss: 99.60832977294922\n",
      "Epoch 74/150, Total Loss: 99.60919189453125\n",
      "Epoch 75/150, Total Loss: 99.61056518554688\n",
      "Epoch 76/150, Total Loss: 99.59095764160156\n",
      "Epoch 77/150, Total Loss: 99.82926177978516\n",
      "Epoch 78/150, Total Loss: 99.60691833496094\n",
      "Epoch 79/150, Total Loss: 99.86686706542969\n",
      "Epoch 80/150, Total Loss: 99.42854309082031\n",
      "Epoch 81/150, Total Loss: 99.37369537353516\n",
      "Epoch 82/150, Total Loss: 99.3675537109375\n",
      "Epoch 83/150, Total Loss: 99.43205261230469\n",
      "Epoch 84/150, Total Loss: 99.28829193115234\n",
      "Epoch 85/150, Total Loss: 99.31866455078125\n",
      "Epoch 86/150, Total Loss: 99.39447784423828\n",
      "Epoch 87/150, Total Loss: 99.29634857177734\n",
      "Epoch 88/150, Total Loss: 99.35596466064453\n",
      "Epoch 89/150, Total Loss: 98.9917221069336\n",
      "Epoch 90/150, Total Loss: 99.36811065673828\n",
      "Epoch 91/150, Total Loss: 99.1260986328125\n",
      "Epoch 92/150, Total Loss: 99.34329223632812\n",
      "Epoch 93/150, Total Loss: 99.20501708984375\n",
      "Epoch 94/150, Total Loss: 99.13418579101562\n",
      "Epoch 95/150, Total Loss: 98.99748229980469\n",
      "Epoch 96/150, Total Loss: 99.09811401367188\n",
      "Epoch 97/150, Total Loss: 98.81352996826172\n",
      "Epoch 98/150, Total Loss: 98.88607025146484\n",
      "Epoch 99/150, Total Loss: 98.95657348632812\n",
      "Epoch 100/150, Total Loss: 98.93269348144531\n",
      "Epoch 101/150, Total Loss: 98.64075469970703\n",
      "Epoch 102/150, Total Loss: 98.62626647949219\n",
      "Epoch 103/150, Total Loss: 98.72233581542969\n",
      "Epoch 104/150, Total Loss: 98.80180358886719\n",
      "Epoch 105/150, Total Loss: 98.75309753417969\n",
      "Epoch 106/150, Total Loss: 98.98158264160156\n",
      "Epoch 107/150, Total Loss: 98.70451354980469\n",
      "Epoch 108/150, Total Loss: 98.7223892211914\n",
      "Epoch 109/150, Total Loss: 98.60248565673828\n",
      "Epoch 110/150, Total Loss: 99.13511657714844\n",
      "Epoch 111/150, Total Loss: 98.57011413574219\n",
      "Epoch 112/150, Total Loss: 98.59813690185547\n",
      "Epoch 113/150, Total Loss: 98.52069854736328\n",
      "Epoch 114/150, Total Loss: 98.41783142089844\n",
      "Epoch 115/150, Total Loss: 98.35033416748047\n",
      "Epoch 116/150, Total Loss: 98.62803649902344\n",
      "Epoch 117/150, Total Loss: 98.33138275146484\n",
      "Epoch 118/150, Total Loss: 98.33687591552734\n",
      "Epoch 119/150, Total Loss: 98.5281753540039\n",
      "Epoch 120/150, Total Loss: 98.34046936035156\n",
      "Epoch 121/150, Total Loss: 98.39226531982422\n",
      "Epoch 122/150, Total Loss: 98.45600128173828\n",
      "Epoch 123/150, Total Loss: 98.07476806640625\n",
      "Epoch 124/150, Total Loss: 98.4842529296875\n",
      "Epoch 125/150, Total Loss: 98.10040283203125\n",
      "Epoch 126/150, Total Loss: 98.18933868408203\n",
      "Epoch 127/150, Total Loss: 98.43694305419922\n",
      "Epoch 128/150, Total Loss: 98.09437561035156\n",
      "Epoch 129/150, Total Loss: 97.98123931884766\n",
      "Epoch 130/150, Total Loss: 98.11100006103516\n",
      "Epoch 131/150, Total Loss: 98.40885925292969\n",
      "Epoch 132/150, Total Loss: 97.98985290527344\n",
      "Epoch 133/150, Total Loss: 98.02625274658203\n",
      "Epoch 134/150, Total Loss: 98.1656265258789\n",
      "Epoch 135/150, Total Loss: 97.89567565917969\n",
      "Epoch 136/150, Total Loss: 97.86283874511719\n",
      "Epoch 137/150, Total Loss: 97.73954772949219\n",
      "Epoch 138/150, Total Loss: 97.82149505615234\n",
      "Epoch 139/150, Total Loss: 97.88385009765625\n",
      "Epoch 140/150, Total Loss: 97.85358428955078\n",
      "Epoch 141/150, Total Loss: 97.78545379638672\n",
      "Epoch 142/150, Total Loss: 97.756591796875\n",
      "Epoch 143/150, Total Loss: 97.83757019042969\n",
      "Epoch 144/150, Total Loss: 97.94556427001953\n",
      "Epoch 145/150, Total Loss: 97.66490173339844\n",
      "Epoch 146/150, Total Loss: 97.57567596435547\n",
      "Epoch 147/150, Total Loss: 97.5885238647461\n",
      "Epoch 148/150, Total Loss: 97.46686553955078\n",
      "Epoch 149/150, Total Loss: 97.72772979736328\n",
      "Epoch 150/150, Total Loss: 97.5782699584961\n"
     ]
    }
   ],
   "source": [
    "for epoch in range(num_epochs):\n",
    "    for _ in range(num_batches):\n",
    "        rng, subkey = jax.random.split(rng)\n",
    "        opt_state = update(next(itercount), opt_state, next(batches), subkey)\n",
    "\n",
    "\n",
    "    # Calculate and print the reconstruction loss at the end of each epoch\n",
    "    vae_params = get_params(opt_state)\n",
    "    rng, subkey = jax.random.split(rng)\n",
    "    # Note: It is important to make sure we are sampling \n",
    "    # different random numbers at each iteration.\n",
    "    loss = vae_loss(vae_params, train_data, subkey)\n",
    "    print(f\"Epoch {epoch + 1}/{num_epochs}, Total Loss: {loss}\")"
   ]
  },
  {
   "cell_type": "markdown",
   "id": "22c1673a",
   "metadata": {},
   "source": [
    "## Plot resulting samples"
   ]
  },
  {
   "cell_type": "code",
   "execution_count": 14,
   "id": "9047678d",
   "metadata": {},
   "outputs": [
    {
     "data": {
      "image/png": "[encoded data removed]",
      "text/plain": [
       "<Figure size 600x600 with 16 Axes>"
      ]
     },
     "metadata": {},
     "output_type": "display_data"
    }
   ],
   "source": [
    "\n",
    "def generate_samples(params, rng, num_samples=16):\n",
    "    latent_samples = random.normal(rng, (num_samples, latent_dim))\n",
    "    generated_images = decoder_apply(params[1], latent_samples)\n",
    "    return generated_images\n",
    "\n",
    "rng, subkey = random.split(rng)\n",
    "generated_images = generate_samples(vae_params, subkey)\n",
    "\n",
    "# Plot the generated images\n",
    "fig, axes = plt.subplots(4, 4, figsize=(6, 6))\n",
    "for i, ax in enumerate(axes.ravel()):\n",
    "    ax.imshow(jnp.reshape(generated_images[i], img_shape), cmap=\"gray\")\n",
    "    ax.axis('off')\n",
    "plt.show()"
   ]
  },
  {
   "cell_type": "markdown",
   "id": "8adcc1a8",
   "metadata": {},
   "source": [
    "### Explore a cross section of the latent space"
   ]
  },
  {
   "cell_type": "code",
   "execution_count": 15,
   "id": "f236c798",
   "metadata": {},
   "outputs": [
    {
     "data": {
      "image/png": "[encoded data removed]",
      "text/plain": [
       "<Figure size 640x480 with 20 Axes>"
      ]
     },
     "metadata": {},
     "output_type": "display_data"
    }
   ],
   "source": [
    "num_samples = 20\n",
    "latent_samples = jnp.tile(jnp.linspace(-1, 1, num_samples)[:, None], (1, latent_dim))\n",
    "generated_images = decoder_apply(vae_params[1], latent_samples)\n",
    "\n",
    "fig, axs = plt.subplots(4, num_samples//4)\n",
    "\n",
    "for img, ax in zip(generated_images, axs.ravel()):\n",
    "    ax.imshow(img.reshape(img_shape), cmap=\"gray\")\n",
    "    ax.axis('off')"
   ]
  },
  {
   "cell_type": "markdown",
   "id": "88545fe7",
   "metadata": {},
   "source": [
    "## Conditional variational autoencoder"
   ]
  },
  {
   "cell_type": "code",
   "execution_count": 16,
   "id": "669cff58",
   "metadata": {},
   "outputs": [],
   "source": [
    "pretrained_encoder_params = encoder_params[:-1]"
   ]
  },
  {
   "cell_type": "code",
   "execution_count": 17,
   "id": "b8e91913",
   "metadata": {},
   "outputs": [],
   "source": [
    "_init, pretrained_encoder_apply = stax.serial(\n",
    "        Dense(512, W_init=he_normal()), Relu,\n",
    "        Dense(256, W_init=he_normal()), Relu,)"
   ]
  },
  {
   "cell_type": "code",
   "execution_count": 18,
   "id": "9f604f7c",
   "metadata": {},
   "outputs": [],
   "source": [
    "def cond_vae_model(latent_dim):\n",
    "    # Encoder\n",
    "    encoder_init, encoder_apply = stax.serial(\n",
    "        Dense(50, W_init=he_normal()), Relu,\n",
    "        Dense(2 * latent_dim)  # Output will be mean and log-variance of the latent space\n",
    "    )\n",
    "\n",
    "    # Decoder\n",
    "    decoder_init, decoder_apply = stax.serial(\n",
    "        Dense(256, W_init=he_normal()), Relu,\n",
    "        Dense(512, W_init=he_normal()), Relu,\n",
    "        Dense(flat_img_shape), Sigmoid,  # We output a prediction for the image and the category\n",
    "    )\n",
    "\n",
    "    return encoder_init, encoder_apply, decoder_init, decoder_apply"
   ]
  },
  {
   "cell_type": "code",
   "execution_count": 19,
   "id": "fa7b9979",
   "metadata": {},
   "outputs": [],
   "source": [
    "(\n",
    "    cond_encoder_init, \n",
    "    cond_encoder_apply, \n",
    "    cond_decoder_init, \n",
    "    cond_decoder_apply\n",
    ") = cond_vae_model(latent_dim)\n",
    "\n",
    "_shape, cond_encoder_params = cond_encoder_init(rng, (-1, 256+n_cat))\n",
    "_shape, cond_decoder_params = cond_decoder_init(rng, (-1, latent_dim+n_cat))\n",
    "\n",
    "# Combine the encoder and decoder parameters\n",
    "cond_vae_params = (cond_encoder_params, cond_decoder_params)\n"
   ]
  },
  {
   "cell_type": "code",
   "execution_count": 20,
   "id": "0924a2b8",
   "metadata": {},
   "outputs": [],
   "source": [
    "#def process_decoder_output(out):\n",
    "#    return sigmoid(out[:, :flat_img_shape]), softmax(out[:, flat_img_shape:])"
   ]
  },
  {
   "cell_type": "code",
   "execution_count": 21,
   "id": "72c390f0",
   "metadata": {},
   "outputs": [],
   "source": [
    "def cond_vae_loss(params, data, rng):\n",
    "    images, labels = data\n",
    "    \n",
    "\n",
    "    \n",
    "    \n",
    "    encoder_params, decoder_params = params\n",
    "    \n",
    "    encoded_images = pretrained_encoder_apply(pretrained_encoder_params, images)\n",
    "    inp = jnp.concatenate([encoded_images, labels],  axis=1)\n",
    "\n",
    "    encoder_values = cond_encoder_apply(encoder_params, inp)\n",
    "    \n",
    "    # Split the encoded data into mean and log-variance\n",
    "    mean, log_var = encoder_values[:, :latent_dim], encoder_values[:, latent_dim:]\n",
    "    \n",
    "\n",
    "    # Reparameterization trick to sample from the latent space\n",
    "    epsilon = random.normal(rng, mean.shape)\n",
    "    z = mean + jnp.exp(0.5 * log_var) * epsilon\n",
    "    \n",
    "    decoder_inp = jnp.concatenate([z, labels], axis=1)\n",
    "\n",
    "    # Reconstruct the data\n",
    "    reconstruction_img = cond_decoder_apply(decoder_params, decoder_inp)\n",
    "    #reonstruction_img, reconstruction_label = process_decoder_output(reconstruction_input)\n",
    "    \n",
    "    \n",
    "\n",
    "    reconstruction_loss = -jnp.sum(\n",
    "        images * jnp.log(reconstruction_img + 1e-8)\n",
    "        + (1 - images) * jnp.log(1 - reconstruction_img + 1e-8)\n",
    "    )\n",
    "    \n",
    "    #classification_loss = -np.sum(labels * jnp.log(reconstruction_label + 1e-8))\n",
    "    \n",
    "    \n",
    "    \n",
    "    # Compute KL divergence between the latent space distribution and the prior, N(0,1)\n",
    "    kl_divergence = -0.5 * jnp.sum(1 + log_var - mean**2 - jnp.exp(log_var))\n",
    "\n",
    "    # Total loss is the sum of reconstruction loss and KL divergence\n",
    "    total_loss = (reconstruction_loss + kl_divergence )/len(images)\n",
    "\n",
    "    return total_loss"
   ]
  },
  {
   "cell_type": "code",
   "execution_count": 22,
   "id": "857f5a7e",
   "metadata": {},
   "outputs": [],
   "source": [
    "\n",
    "\n",
    "\n",
    "\n",
    "cond_num_epochs = 150\n",
    "cond_batch_size = 64\n",
    "\n",
    "\n",
    "cond_step_size = 0.0002\n",
    "cond_momentum_mass = 0.9\n",
    "\n",
    "\n",
    "\n",
    "\n",
    "(\n",
    "    cond_opt_init, \n",
    "    cond_opt_update, \n",
    "    cond_get_params\n",
    ") = optimizers.momentum(cond_step_size, mass=cond_momentum_mass)\n",
    "    \n",
    "\n",
    "cond_opt_state = cond_opt_init(cond_vae_params)\n",
    "\n",
    "\n",
    "\n",
    "@jit\n",
    "def cond_update(i, opt_state, data, rng):\n",
    "    params = cond_get_params(opt_state)\n",
    "    return cond_opt_update(i, grad(cond_vae_loss)(params, data, rng), opt_state)\n",
    "\n",
    "def joint_data_stream(rng):\n",
    "    while True:\n",
    "        rng, subkey = random.split(rng)\n",
    "        perm = random.permutation(subkey, jnp.arange(num_train))\n",
    "        for i in range(num_batches):\n",
    "            batch_idx = perm[i * batch_size : (i + 1) * batch_size]\n",
    "            yield train_data[batch_idx], train_labels[batch_idx]\n",
    "\n",
    "rng, subkey = random.split(rng)\n",
    "joint_batches = joint_data_stream(subkey)\n",
    "\n",
    "cond_num_train = train_data.shape[0]\n",
    "cond_num_complete_batches, leftover = divmod(num_train, batch_size)\n",
    "cond_num_batches = num_complete_batches + bool(leftover)\n"
   ]
  },
  {
   "cell_type": "code",
   "execution_count": 23,
   "id": "05585f27",
   "metadata": {},
   "outputs": [
    {
     "name": "stdout",
     "output_type": "stream",
     "text": [
      "Epoch 1/150, Total Loss: 159.6698760986328\n",
      "Epoch 2/150, Total Loss: 145.37921142578125\n",
      "Epoch 3/150, Total Loss: 138.27134704589844\n",
      "Epoch 4/150, Total Loss: 133.83343505859375\n",
      "Epoch 5/150, Total Loss: 130.72897338867188\n",
      "Epoch 6/150, Total Loss: 128.11331176757812\n",
      "Epoch 7/150, Total Loss: 126.3009033203125\n",
      "Epoch 8/150, Total Loss: 124.47100067138672\n",
      "Epoch 9/150, Total Loss: 123.25323486328125\n",
      "Epoch 10/150, Total Loss: 122.12284851074219\n",
      "Epoch 11/150, Total Loss: 121.0156021118164\n",
      "Epoch 12/150, Total Loss: 120.47565460205078\n",
      "Epoch 13/150, Total Loss: 119.58583068847656\n",
      "Epoch 14/150, Total Loss: 118.85504913330078\n",
      "Epoch 15/150, Total Loss: 118.26785278320312\n",
      "Epoch 16/150, Total Loss: 118.01766204833984\n",
      "Epoch 17/150, Total Loss: 117.49232482910156\n",
      "Epoch 18/150, Total Loss: 117.29965209960938\n",
      "Epoch 19/150, Total Loss: 116.56837463378906\n",
      "Epoch 20/150, Total Loss: 116.20500183105469\n",
      "Epoch 21/150, Total Loss: 115.69830322265625\n",
      "Epoch 22/150, Total Loss: 115.4655532836914\n",
      "Epoch 23/150, Total Loss: 115.19390106201172\n",
      "Epoch 24/150, Total Loss: 114.84954833984375\n",
      "Epoch 25/150, Total Loss: 114.77900695800781\n",
      "Epoch 26/150, Total Loss: 114.35835266113281\n",
      "Epoch 27/150, Total Loss: 114.14521789550781\n",
      "Epoch 28/150, Total Loss: 114.12580108642578\n",
      "Epoch 29/150, Total Loss: 113.69268035888672\n",
      "Epoch 30/150, Total Loss: 113.33805847167969\n",
      "Epoch 31/150, Total Loss: 113.40996551513672\n",
      "Epoch 32/150, Total Loss: 113.09693145751953\n",
      "Epoch 33/150, Total Loss: 112.67288208007812\n",
      "Epoch 34/150, Total Loss: 112.64794921875\n",
      "Epoch 35/150, Total Loss: 112.62889862060547\n",
      "Epoch 36/150, Total Loss: 112.46759796142578\n",
      "Epoch 37/150, Total Loss: 112.01168823242188\n",
      "Epoch 38/150, Total Loss: 111.89247131347656\n",
      "Epoch 39/150, Total Loss: 111.79431915283203\n",
      "Epoch 40/150, Total Loss: 111.5692367553711\n",
      "Epoch 41/150, Total Loss: 111.5732192993164\n",
      "Epoch 42/150, Total Loss: 111.69393157958984\n",
      "Epoch 43/150, Total Loss: 111.35694885253906\n",
      "Epoch 44/150, Total Loss: 111.10223388671875\n",
      "Epoch 45/150, Total Loss: 111.29371643066406\n",
      "Epoch 46/150, Total Loss: 110.74402618408203\n",
      "Epoch 47/150, Total Loss: 111.0020523071289\n",
      "Epoch 48/150, Total Loss: 110.86693572998047\n",
      "Epoch 49/150, Total Loss: 110.39462280273438\n",
      "Epoch 50/150, Total Loss: 110.19930267333984\n",
      "Epoch 51/150, Total Loss: 110.27809143066406\n",
      "Epoch 52/150, Total Loss: 110.48951721191406\n",
      "Epoch 53/150, Total Loss: 110.38275146484375\n",
      "Epoch 54/150, Total Loss: 109.99771881103516\n",
      "Epoch 55/150, Total Loss: 109.76897430419922\n",
      "Epoch 56/150, Total Loss: 109.78791046142578\n",
      "Epoch 57/150, Total Loss: 109.82088470458984\n",
      "Epoch 58/150, Total Loss: 109.58769989013672\n",
      "Epoch 59/150, Total Loss: 109.67708587646484\n",
      "Epoch 60/150, Total Loss: 109.24922180175781\n",
      "Epoch 61/150, Total Loss: 109.21516418457031\n",
      "Epoch 62/150, Total Loss: 109.39505004882812\n",
      "Epoch 63/150, Total Loss: 109.03311920166016\n",
      "Epoch 64/150, Total Loss: 109.97943115234375\n",
      "Epoch 65/150, Total Loss: 109.05467987060547\n",
      "Epoch 66/150, Total Loss: 108.8236312866211\n",
      "Epoch 67/150, Total Loss: 108.90301513671875\n",
      "Epoch 68/150, Total Loss: 108.6563491821289\n",
      "Epoch 69/150, Total Loss: 108.57901763916016\n",
      "Epoch 70/150, Total Loss: 108.63352966308594\n",
      "Epoch 71/150, Total Loss: 108.5613021850586\n",
      "Epoch 72/150, Total Loss: 108.73301696777344\n",
      "Epoch 73/150, Total Loss: 108.5594253540039\n",
      "Epoch 74/150, Total Loss: 109.0439453125\n",
      "Epoch 75/150, Total Loss: 108.41497039794922\n",
      "Epoch 76/150, Total Loss: 108.41033172607422\n",
      "Epoch 77/150, Total Loss: 108.50253295898438\n",
      "Epoch 78/150, Total Loss: 108.17527770996094\n",
      "Epoch 79/150, Total Loss: 108.05967712402344\n",
      "Epoch 80/150, Total Loss: 107.96806335449219\n",
      "Epoch 81/150, Total Loss: 108.12844848632812\n",
      "Epoch 82/150, Total Loss: 107.89250183105469\n",
      "Epoch 83/150, Total Loss: 107.84141540527344\n",
      "Epoch 84/150, Total Loss: 107.92091369628906\n",
      "Epoch 85/150, Total Loss: 107.8930435180664\n",
      "Epoch 86/150, Total Loss: 107.77201843261719\n",
      "Epoch 87/150, Total Loss: 107.6635971069336\n",
      "Epoch 88/150, Total Loss: 107.81144714355469\n",
      "Epoch 89/150, Total Loss: 107.90816497802734\n",
      "Epoch 90/150, Total Loss: 107.36949920654297\n",
      "Epoch 91/150, Total Loss: 107.9791259765625\n",
      "Epoch 92/150, Total Loss: 107.61611938476562\n",
      "Epoch 93/150, Total Loss: 107.488525390625\n",
      "Epoch 94/150, Total Loss: 107.32917022705078\n",
      "Epoch 95/150, Total Loss: 107.38541412353516\n",
      "Epoch 96/150, Total Loss: 107.77877807617188\n",
      "Epoch 97/150, Total Loss: 107.24781799316406\n",
      "Epoch 98/150, Total Loss: 107.14009857177734\n",
      "Epoch 99/150, Total Loss: 107.23605346679688\n",
      "Epoch 100/150, Total Loss: 107.09025573730469\n",
      "Epoch 101/150, Total Loss: 107.05074310302734\n",
      "Epoch 102/150, Total Loss: 106.8961181640625\n",
      "Epoch 103/150, Total Loss: 106.95833587646484\n",
      "Epoch 104/150, Total Loss: 106.89264678955078\n",
      "Epoch 105/150, Total Loss: 106.78272247314453\n",
      "Epoch 106/150, Total Loss: 106.94087982177734\n",
      "Epoch 107/150, Total Loss: 106.77619934082031\n",
      "Epoch 108/150, Total Loss: 106.94319915771484\n",
      "Epoch 109/150, Total Loss: 106.71528625488281\n",
      "Epoch 110/150, Total Loss: 106.82244110107422\n",
      "Epoch 111/150, Total Loss: 106.74304962158203\n",
      "Epoch 112/150, Total Loss: 106.877685546875\n",
      "Epoch 113/150, Total Loss: 107.00354766845703\n",
      "Epoch 114/150, Total Loss: 106.64652252197266\n",
      "Epoch 115/150, Total Loss: 106.79388427734375\n",
      "Epoch 116/150, Total Loss: 107.28773498535156\n",
      "Epoch 117/150, Total Loss: 106.57887268066406\n",
      "Epoch 118/150, Total Loss: 106.5512924194336\n",
      "Epoch 119/150, Total Loss: 106.79652404785156\n",
      "Epoch 120/150, Total Loss: 106.29446411132812\n",
      "Epoch 121/150, Total Loss: 106.73096466064453\n",
      "Epoch 122/150, Total Loss: 106.4555892944336\n",
      "Epoch 123/150, Total Loss: 106.6384506225586\n",
      "Epoch 124/150, Total Loss: 106.38404083251953\n",
      "Epoch 125/150, Total Loss: 106.29237365722656\n",
      "Epoch 126/150, Total Loss: 106.607177734375\n",
      "Epoch 127/150, Total Loss: 106.11033630371094\n",
      "Epoch 128/150, Total Loss: 106.64264678955078\n",
      "Epoch 129/150, Total Loss: 106.3558349609375\n",
      "Epoch 130/150, Total Loss: 106.07481384277344\n",
      "Epoch 131/150, Total Loss: 105.95034790039062\n",
      "Epoch 132/150, Total Loss: 106.4458999633789\n",
      "Epoch 133/150, Total Loss: 105.906982421875\n",
      "Epoch 134/150, Total Loss: 105.9941177368164\n",
      "Epoch 135/150, Total Loss: 106.0551986694336\n",
      "Epoch 136/150, Total Loss: 105.91895294189453\n",
      "Epoch 137/150, Total Loss: 106.06990051269531\n",
      "Epoch 138/150, Total Loss: 105.69437408447266\n",
      "Epoch 139/150, Total Loss: 105.89995574951172\n",
      "Epoch 140/150, Total Loss: 105.98716735839844\n",
      "Epoch 141/150, Total Loss: 105.88439178466797\n",
      "Epoch 142/150, Total Loss: 105.75569915771484\n",
      "Epoch 143/150, Total Loss: 105.79741668701172\n",
      "Epoch 144/150, Total Loss: 105.89871978759766\n",
      "Epoch 145/150, Total Loss: 106.01972198486328\n",
      "Epoch 146/150, Total Loss: 105.60653686523438\n",
      "Epoch 147/150, Total Loss: 105.77448272705078\n",
      "Epoch 148/150, Total Loss: 105.68399810791016\n",
      "Epoch 149/150, Total Loss: 105.73271179199219\n",
      "Epoch 150/150, Total Loss: 105.62818145751953\n"
     ]
    }
   ],
   "source": [
    "cond_itercount = itertools.count()\n",
    "\n",
    "for epoch in range(num_epochs):\n",
    "    for _ in range(num_batches):\n",
    "        rng, subkey = jax.random.split(rng)\n",
    "        cond_opt_state = cond_update(next(cond_itercount), cond_opt_state, next(joint_batches), subkey)\n",
    "\n",
    "\n",
    "    # Calculate and print the reconstruction loss at the end of each epoch\n",
    "    cond_vae_params = cond_get_params(cond_opt_state)\n",
    "    rng, subkey = jax.random.split(rng)\n",
    "    # Note: It is important to make sure we are sampling \n",
    "    # different random numbers at each iteration.\n",
    "    loss = cond_vae_loss(cond_vae_params, (train_data, train_labels), subkey)\n",
    "    print(f\"Epoch {epoch + 1}/{num_epochs}, Total Loss: {loss}\")"
   ]
  },
  {
   "cell_type": "code",
   "execution_count": 28,
   "id": "d7d89eb5",
   "metadata": {},
   "outputs": [],
   "source": [
    "desired_labels =  jnp.eye(10)\n",
    "rng, subkey = random.split(rng)\n",
    "noise_input = jax.random.normal(subkey, (10, latent_dim))\n",
    "\n",
    "decoder_input  = jnp.concatenate([noise_input, desired_labels], axis=1)"
   ]
  },
  {
   "cell_type": "code",
   "execution_count": 29,
   "id": "e330f4d2",
   "metadata": {},
   "outputs": [
    {
     "data": {
      "image/png": "[encoded data removed]",
      "text/plain": [
       "<Figure size 640x480 with 10 Axes>"
      ]
     },
     "metadata": {},
     "output_type": "display_data"
    }
   ],
   "source": [
    "num_samples = 10\n",
    "#latent_samples = jnp.tile(jnp.linspace(-1, 1, num_samples)[:, None], (1, latent_dim))\n",
    "generated_images = cond_decoder_apply(cond_vae_params[1], decoder_input)\n",
    "\n",
    "#generated_images = decoder_apply(vae_params[1], noise_input)\n",
    "\n",
    "fig, axs = plt.subplots(5, num_samples//5 + num_samples%5)\n",
    "\n",
    "for img, ax in zip(generated_images, axs.ravel()):\n",
    "    ax.imshow(img.reshape(img_shape), cmap=\"gray\")\n",
    "    ax.axis('off')"
   ]
  },
  {
   "cell_type": "code",
   "execution_count": null,
   "id": "4292b6b0",
   "metadata": {},
   "outputs": [],
   "source": []
  }
 ],
 "metadata": {
  "kernelspec": {
   "display_name": "Python 3 (ipykernel)",
   "language": "python",
   "name": "python3"
  },
  "language_info": {
   "codemirror_mode": {
    "name": "ipython",
    "version": 3
   },
   "file_extension": ".py",
   "mimetype": "text/x-python",
   "name": "python",
   "nbconvert_exporter": "python",
   "pygments_lexer": "ipython3",
   "version": "3.10.9"
  }
 },
 "nbformat": 4,
 "nbformat_minor": 5
}
